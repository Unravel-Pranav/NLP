{
 "cells": [
  {
   "cell_type": "code",
   "execution_count": 2,
   "id": "03e83a74-a076-487a-9cc8-bab599d18b17",
   "metadata": {},
   "outputs": [
    {
     "name": "stdout",
     "output_type": "stream",
     "text": [
      "Requirement already satisfied: nltk in c:\\users\\pathe\\miniconda3\\lib\\site-packages (3.8.1)\n",
      "Requirement already satisfied: click in c:\\users\\pathe\\miniconda3\\lib\\site-packages (from nltk) (8.1.7)\n",
      "Requirement already satisfied: joblib in c:\\users\\pathe\\miniconda3\\lib\\site-packages (from nltk) (1.4.2)\n",
      "Requirement already satisfied: regex>=2021.8.3 in c:\\users\\pathe\\miniconda3\\lib\\site-packages (from nltk) (2024.7.24)\n",
      "Requirement already satisfied: tqdm in c:\\users\\pathe\\miniconda3\\lib\\site-packages (from nltk) (4.66.2)\n",
      "Requirement already satisfied: colorama in c:\\users\\pathe\\miniconda3\\lib\\site-packages (from click->nltk) (0.4.6)\n",
      "Note: you may need to restart the kernel to use updated packages.\n"
     ]
    }
   ],
   "source": [
    "pip install nltk"
   ]
  },
  {
   "cell_type": "code",
   "execution_count": 3,
   "id": "d2c2ede2-f467-496d-bf5a-db3166c5daf9",
   "metadata": {},
   "outputs": [],
   "source": [
    "paragraph =\"\"\"\n",
    "Narendra Damodardas Modi (Gujarati: [ˈnəɾendɾə dɑmodəɾˈdɑs ˈmodiː] ⓘ; born 17 September 1950) is an Indian politician serving as the current Prime Minister of India since 26 May 2014.\n",
    "Modi was the chief minister of Gujarat from 2001 to 2014 and is the Member of Parliament (MP) for Varanasi. \n",
    "He is a member of the Bharatiya Janata Party (BJP) and of the Rashtriya Swayamsevak Sangh (RSS), a right wing Hindu nationalist paramilitary volunteer organisation. \n",
    "He is the longest-serving prime minister outside the Indian National Congress.\n",
    "Modi was born and raised in Vadnagar in northeastern Gujarat, where he completed his secondary education.\n",
    "He was introduced to the RSS at the age of eight. At the age of 18, he was married to Jashodaben Modi, whom he abandoned soon after, only publicly acknowledging her four decades later when legally required to do so. Modi became a full-time worker for the RSS in Gujarat in 1971.\n",
    "The RSS assigned him to the BJP in 1985 and he rose through the party hierarchy, becoming general secretary in 1998.[b] In 2001, Modi was appointed Chief Minister of Gujarat and elected to the legislative assembly soon after. His administration is considered complicit in the 2002 Gujarat riots, and has been criticised for its management of the crisis. According to official records,\n",
    "a little over 1,000 people were killed, three-quarters of whom were Muslim; independent sources estimated 2,000 deaths, mostly Muslim.\n",
    "A Special Investigation Team appointed by the Supreme Court of India in 2012 found no evidence to initiate prosecution proceedings against him.\n",
    "[d] While his policies as chief minister were credited for encouraging economic growth, his administration was criticised for failing to significantly improve health, poverty and education indices in the state.\n",
    "\n",
    "\"\"\""
   ]
  },
  {
   "cell_type": "code",
   "execution_count": 4,
   "id": "535d720f-0784-44c6-810f-e40fcaf5e2b7",
   "metadata": {},
   "outputs": [
    {
     "data": {
      "text/plain": [
       "'\\nNarendra Damodardas Modi (Gujarati: [ˈnəɾendɾə dɑmodəɾˈdɑs ˈmodiː] ⓘ; born 17 September 1950) is an Indian politician serving as the current Prime Minister of India since 26 May 2014.\\nModi was the chief minister of Gujarat from 2001 to 2014 and is the Member of Parliament (MP) for Varanasi. \\nHe is a member of the Bharatiya Janata Party (BJP) and of the Rashtriya Swayamsevak Sangh (RSS), a right wing Hindu nationalist paramilitary volunteer organisation. \\nHe is the longest-serving prime minister outside the Indian National Congress.\\nModi was born and raised in Vadnagar in northeastern Gujarat, where he completed his secondary education.\\nHe was introduced to the RSS at the age of eight. At the age of 18, he was married to Jashodaben Modi, whom he abandoned soon after, only publicly acknowledging her four decades later when legally required to do so. Modi became a full-time worker for the RSS in Gujarat in 1971.\\nThe RSS assigned him to the BJP in 1985 and he rose through the party hierarchy, becoming general secretary in 1998.[b] In 2001, Modi was appointed Chief Minister of Gujarat and elected to the legislative assembly soon after. His administration is considered complicit in the 2002 Gujarat riots, and has been criticised for its management of the crisis. According to official records,\\na little over 1,000 people were killed, three-quarters of whom were Muslim; independent sources estimated 2,000 deaths, mostly Muslim.\\nA Special Investigation Team appointed by the Supreme Court of India in 2012 found no evidence to initiate prosecution proceedings against him.\\n[d] While his policies as chief minister were credited for encouraging economic growth, his administration was criticised for failing to significantly improve health, poverty and education indices in the state.\\n\\n'"
      ]
     },
     "execution_count": 4,
     "metadata": {},
     "output_type": "execute_result"
    }
   ],
   "source": [
    "paragraph"
   ]
  },
  {
   "cell_type": "code",
   "execution_count": 5,
   "id": "7f4838cc-89fa-41e5-a427-1c15afb9724c",
   "metadata": {},
   "outputs": [],
   "source": [
    "import nltk \n",
    "from nltk.stem import  PorterStemmer\n",
    "from nltk.corpus import  stopwords"
   ]
  },
  {
   "cell_type": "code",
   "execution_count": 6,
   "id": "a34b25f8-f12c-4f20-b0d2-1ca49540db6e",
   "metadata": {},
   "outputs": [
    {
     "name": "stderr",
     "output_type": "stream",
     "text": [
      "[nltk_data] Downloading package punkt to\n",
      "[nltk_data]     C:\\Users\\pathe\\AppData\\Roaming\\nltk_data...\n",
      "[nltk_data]   Package punkt is already up-to-date!\n"
     ]
    }
   ],
   "source": [
    "## Tokenization converts Paragraph->sentences -> words\n",
    "\n",
    "nltk.download('punkt')\n",
    "sentences=nltk.sent_tokenize(paragraph)\n"
   ]
  },
  {
   "cell_type": "code",
   "execution_count": 7,
   "id": "b4753171-ee15-4e0b-9ecd-ddd398c08f92",
   "metadata": {},
   "outputs": [
    {
     "name": "stdout",
     "output_type": "stream",
     "text": [
      "['\\nNarendra Damodardas Modi (Gujarati: [ˈnəɾendɾə dɑmodəɾˈdɑs ˈmodiː] ⓘ; born 17 September 1950) is an Indian politician serving as the current Prime Minister of India since 26 May 2014.', 'Modi was the chief minister of Gujarat from 2001 to 2014 and is the Member of Parliament (MP) for Varanasi.', 'He is a member of the Bharatiya Janata Party (BJP) and of the Rashtriya Swayamsevak Sangh (RSS), a right wing Hindu nationalist paramilitary volunteer organisation.', 'He is the longest-serving prime minister outside the Indian National Congress.', 'Modi was born and raised in Vadnagar in northeastern Gujarat, where he completed his secondary education.', 'He was introduced to the RSS at the age of eight.', 'At the age of 18, he was married to Jashodaben Modi, whom he abandoned soon after, only publicly acknowledging her four decades later when legally required to do so.', 'Modi became a full-time worker for the RSS in Gujarat in 1971.', 'The RSS assigned him to the BJP in 1985 and he rose through the party hierarchy, becoming general secretary in 1998.', '[b] In 2001, Modi was appointed Chief Minister of Gujarat and elected to the legislative assembly soon after.', 'His administration is considered complicit in the 2002 Gujarat riots, and has been criticised for its management of the crisis.', 'According to official records,\\na little over 1,000 people were killed, three-quarters of whom were Muslim; independent sources estimated 2,000 deaths, mostly Muslim.', 'A Special Investigation Team appointed by the Supreme Court of India in 2012 found no evidence to initiate prosecution proceedings against him.', '[d] While his policies as chief minister were credited for encouraging economic growth, his administration was criticised for failing to significantly improve health, poverty and education indices in the state.']\n"
     ]
    },
    {
     "data": {
      "text/plain": [
       "list"
      ]
     },
     "execution_count": 7,
     "metadata": {},
     "output_type": "execute_result"
    }
   ],
   "source": [
    "print(sentences)\n",
    "type(sentences)"
   ]
  },
  {
   "cell_type": "code",
   "execution_count": 8,
   "id": "beef8cb9-bb2f-48d2-a8ab-1d47058d656a",
   "metadata": {},
   "outputs": [],
   "source": [
    "stemmer = PorterStemmer()"
   ]
  },
  {
   "cell_type": "code",
   "execution_count": 9,
   "id": "9933c8f0-7284-42e7-af9b-0f2d1658f75e",
   "metadata": {},
   "outputs": [
    {
     "data": {
      "text/plain": [
       "'histori'"
      ]
     },
     "execution_count": 9,
     "metadata": {},
     "output_type": "execute_result"
    }
   ],
   "source": [
    "stemmer.stem('history')"
   ]
  },
  {
   "cell_type": "code",
   "execution_count": 10,
   "id": "1af39041-e16b-4b62-bfe9-e20e8b931666",
   "metadata": {},
   "outputs": [],
   "source": [
    "from nltk.stem import WordNetLemmatizer"
   ]
  },
  {
   "cell_type": "code",
   "execution_count": 11,
   "id": "3f6c1809-c245-49c9-8791-ed2e4a7ca9a1",
   "metadata": {},
   "outputs": [
    {
     "name": "stderr",
     "output_type": "stream",
     "text": [
      "[nltk_data] Downloading package wordnet to\n",
      "[nltk_data]     C:\\Users\\pathe\\AppData\\Roaming\\nltk_data...\n",
      "[nltk_data]   Package wordnet is already up-to-date!\n"
     ]
    },
    {
     "data": {
      "text/plain": [
       "True"
      ]
     },
     "execution_count": 11,
     "metadata": {},
     "output_type": "execute_result"
    }
   ],
   "source": [
    "import nltk\n",
    "nltk.download('wordnet')"
   ]
  },
  {
   "cell_type": "code",
   "execution_count": 12,
   "id": "8f6a99c9-bb34-4104-830c-5da84042da0f",
   "metadata": {},
   "outputs": [],
   "source": [
    "lemmatizer = WordNetLemmatizer()"
   ]
  },
  {
   "cell_type": "code",
   "execution_count": 13,
   "id": "9c766b45-3197-44a6-8073-ab6948c49e90",
   "metadata": {},
   "outputs": [
    {
     "data": {
      "text/plain": [
       "'go'"
      ]
     },
     "execution_count": 13,
     "metadata": {},
     "output_type": "execute_result"
    }
   ],
   "source": [
    "lemmatizer.lemmatize('goes')"
   ]
  },
  {
   "cell_type": "code",
   "execution_count": 14,
   "id": "978fb2b0-eeee-47cd-a3ac-18f8a88dc533",
   "metadata": {},
   "outputs": [],
   "source": [
    "import re \n",
    "corpus =[]\n",
    "for i in range(len(sentences)):\n",
    "    review=re.sub('[^a-zA-Z]',' ',sentences[i])\n",
    "    review=review.lower()\n",
    "    corpus.append(review)"
   ]
  },
  {
   "cell_type": "code",
   "execution_count": 15,
   "id": "c9447d7b-6000-4b3f-b5d7-7bb070d3a5c6",
   "metadata": {},
   "outputs": [
    {
     "data": {
      "text/plain": [
       "[' narendra damodardas modi  gujarati    n  end   d mod   d s  modi      born    september       is an indian politician serving as the current prime minister of india since    may      ',\n",
       " 'modi was the chief minister of gujarat from      to      and is the member of parliament  mp  for varanasi ',\n",
       " 'he is a member of the bharatiya janata party  bjp  and of the rashtriya swayamsevak sangh  rss   a right wing hindu nationalist paramilitary volunteer organisation ',\n",
       " 'he is the longest serving prime minister outside the indian national congress ',\n",
       " 'modi was born and raised in vadnagar in northeastern gujarat  where he completed his secondary education ',\n",
       " 'he was introduced to the rss at the age of eight ',\n",
       " 'at the age of     he was married to jashodaben modi  whom he abandoned soon after  only publicly acknowledging her four decades later when legally required to do so ',\n",
       " 'modi became a full time worker for the rss in gujarat in      ',\n",
       " 'the rss assigned him to the bjp in      and he rose through the party hierarchy  becoming general secretary in      ',\n",
       " ' b  in       modi was appointed chief minister of gujarat and elected to the legislative assembly soon after ',\n",
       " 'his administration is considered complicit in the      gujarat riots  and has been criticised for its management of the crisis ',\n",
       " 'according to official records  a little over       people were killed  three quarters of whom were muslim  independent sources estimated       deaths  mostly muslim ',\n",
       " 'a special investigation team appointed by the supreme court of india in      found no evidence to initiate prosecution proceedings against him ',\n",
       " ' d  while his policies as chief minister were credited for encouraging economic growth  his administration was criticised for failing to significantly improve health  poverty and education indices in the state ']"
      ]
     },
     "execution_count": 15,
     "metadata": {},
     "output_type": "execute_result"
    }
   ],
   "source": [
    "corpus"
   ]
  },
  {
   "cell_type": "code",
   "execution_count": 16,
   "id": "e8ad145a-0418-49f3-8662-33daeed4ce3d",
   "metadata": {},
   "outputs": [
    {
     "name": "stderr",
     "output_type": "stream",
     "text": [
      "[nltk_data] Downloading package stopwords to\n",
      "[nltk_data]     C:\\Users\\pathe\\AppData\\Roaming\\nltk_data...\n",
      "[nltk_data]   Package stopwords is already up-to-date!\n"
     ]
    },
    {
     "data": {
      "text/plain": [
       "True"
      ]
     },
     "execution_count": 16,
     "metadata": {},
     "output_type": "execute_result"
    }
   ],
   "source": [
    "import nltk\n",
    "nltk.download('stopwords')\n"
   ]
  },
  {
   "cell_type": "code",
   "execution_count": 17,
   "id": "f5eea204-2a50-43f9-aa85-06c34dff74c4",
   "metadata": {},
   "outputs": [
    {
     "name": "stdout",
     "output_type": "stream",
     "text": [
      "narendra\n",
      "damodarda\n",
      "modi\n",
      "gujarati\n",
      "n\n",
      "end\n",
      "mod\n",
      "modi\n",
      "born\n",
      "septemb\n",
      "indian\n",
      "politician\n",
      "serv\n",
      "current\n",
      "prime\n",
      "minist\n",
      "india\n",
      "sinc\n",
      "may\n",
      "modi\n",
      "chief\n",
      "minist\n",
      "gujarat\n",
      "member\n",
      "parliament\n",
      "mp\n",
      "varanasi\n",
      "member\n",
      "bharatiya\n",
      "janata\n",
      "parti\n",
      "bjp\n",
      "rashtriya\n",
      "swayamsevak\n",
      "sangh\n",
      "rss\n",
      "right\n",
      "wing\n",
      "hindu\n",
      "nationalist\n",
      "paramilitari\n",
      "volunt\n",
      "organis\n",
      "longest\n",
      "serv\n",
      "prime\n",
      "minist\n",
      "outsid\n",
      "indian\n",
      "nation\n",
      "congress\n",
      "modi\n",
      "born\n",
      "rais\n",
      "vadnagar\n",
      "northeastern\n",
      "gujarat\n",
      "complet\n",
      "secondari\n",
      "educ\n",
      "introduc\n",
      "rss\n",
      "age\n",
      "eight\n",
      "age\n",
      "marri\n",
      "jashodaben\n",
      "modi\n",
      "abandon\n",
      "soon\n",
      "publicli\n",
      "acknowledg\n",
      "four\n",
      "decad\n",
      "later\n",
      "legal\n",
      "requir\n",
      "modi\n",
      "becam\n",
      "full\n",
      "time\n",
      "worker\n",
      "rss\n",
      "gujarat\n",
      "rss\n",
      "assign\n",
      "bjp\n",
      "rose\n",
      "parti\n",
      "hierarchi\n",
      "becom\n",
      "gener\n",
      "secretari\n",
      "b\n",
      "modi\n",
      "appoint\n",
      "chief\n",
      "minist\n",
      "gujarat\n",
      "elect\n",
      "legisl\n",
      "assembl\n",
      "soon\n",
      "administr\n",
      "consid\n",
      "complicit\n",
      "gujarat\n",
      "riot\n",
      "criticis\n",
      "manag\n",
      "crisi\n",
      "accord\n",
      "offici\n",
      "record\n",
      "littl\n",
      "peopl\n",
      "kill\n",
      "three\n",
      "quarter\n",
      "muslim\n",
      "independ\n",
      "sourc\n",
      "estim\n",
      "death\n",
      "mostli\n",
      "muslim\n",
      "special\n",
      "investig\n",
      "team\n",
      "appoint\n",
      "suprem\n",
      "court\n",
      "india\n",
      "found\n",
      "evid\n",
      "initi\n",
      "prosecut\n",
      "proceed\n",
      "polici\n",
      "chief\n",
      "minist\n",
      "credit\n",
      "encourag\n",
      "econom\n",
      "growth\n",
      "administr\n",
      "criticis\n",
      "fail\n",
      "significantli\n",
      "improv\n",
      "health\n",
      "poverti\n",
      "educ\n",
      "indic\n",
      "state\n"
     ]
    }
   ],
   "source": [
    "## Stemming\n",
    "for i in corpus:\n",
    "    words=nltk.word_tokenize(i)\n",
    "    for word in words:\n",
    "        if word not in set(stopwords.words('english')):\n",
    "            print(stemmer.stem(word))\n",
    "            "
   ]
  },
  {
   "cell_type": "code",
   "execution_count": 18,
   "id": "d0bfa2fa-f4fe-43a1-a1fb-2fe37363b24b",
   "metadata": {},
   "outputs": [
    {
     "name": "stdout",
     "output_type": "stream",
     "text": [
      "Requirement already satisfied: scikit-learn in c:\\users\\pathe\\miniconda3\\lib\\site-packages (1.5.1)\n",
      "Requirement already satisfied: numpy>=1.19.5 in c:\\users\\pathe\\miniconda3\\lib\\site-packages (from scikit-learn) (1.26.4)\n",
      "Requirement already satisfied: scipy>=1.6.0 in c:\\users\\pathe\\miniconda3\\lib\\site-packages (from scikit-learn) (1.13.1)\n",
      "Requirement already satisfied: joblib>=1.2.0 in c:\\users\\pathe\\miniconda3\\lib\\site-packages (from scikit-learn) (1.4.2)\n",
      "Requirement already satisfied: threadpoolctl>=3.1.0 in c:\\users\\pathe\\miniconda3\\lib\\site-packages (from scikit-learn) (3.5.0)\n",
      "Note: you may need to restart the kernel to use updated packages.\n"
     ]
    }
   ],
   "source": [
    "pip install scikit-learn"
   ]
  },
  {
   "cell_type": "code",
   "execution_count": 19,
   "id": "4c4c257e-1ec4-4d58-9794-592987f6c629",
   "metadata": {},
   "outputs": [],
   "source": [
    "from sklearn.feature_extraction.text import CountVectorizer\n",
    "cv = CountVectorizer(binary=True)"
   ]
  },
  {
   "cell_type": "code",
   "execution_count": 20,
   "id": "24b675f0-0bc7-4fb7-b430-f38f02184d63",
   "metadata": {},
   "outputs": [],
   "source": [
    "X=cv.fit_transform(corpus)"
   ]
  },
  {
   "cell_type": "code",
   "execution_count": 72,
   "id": "9125c8d4-e694-4098-b572-c40e7f3eb815",
   "metadata": {},
   "outputs": [
    {
     "data": {
      "text/plain": [
       "{'narendra': 90,\n",
       " 'damodardas': 31,\n",
       " 'modi': 86,\n",
       " 'gujarati': 52,\n",
       " 'end': 40,\n",
       " 'mod': 85,\n",
       " 'born': 19,\n",
       " 'september': 124,\n",
       " 'is': 70,\n",
       " 'an': 7,\n",
       " 'indian': 65,\n",
       " 'politician': 106,\n",
       " 'serving': 125,\n",
       " 'as': 10,\n",
       " 'the': 136,\n",
       " 'current': 30,\n",
       " 'prime': 108,\n",
       " 'minister': 84,\n",
       " 'of': 95,\n",
       " 'india': 64,\n",
       " 'since': 127,\n",
       " 'may': 82,\n",
       " 'was': 144,\n",
       " 'chief': 21,\n",
       " 'gujarat': 51,\n",
       " 'from': 47,\n",
       " 'to': 140,\n",
       " 'and': 8,\n",
       " 'member': 83,\n",
       " 'parliament': 102,\n",
       " 'mp': 88,\n",
       " 'for': 44,\n",
       " 'varanasi': 142,\n",
       " 'he': 54,\n",
       " 'bharatiya': 17,\n",
       " 'janata': 72,\n",
       " 'party': 103,\n",
       " 'bjp': 18,\n",
       " 'rashtriya': 114,\n",
       " 'swayamsevak': 134,\n",
       " 'sangh': 121,\n",
       " 'rss': 120,\n",
       " 'right': 117,\n",
       " 'wing': 150,\n",
       " 'hindu': 59,\n",
       " 'nationalist': 92,\n",
       " 'paramilitary': 101,\n",
       " 'volunteer': 143,\n",
       " 'organisation': 98,\n",
       " 'longest': 79,\n",
       " 'outside': 99,\n",
       " 'national': 91,\n",
       " 'congress': 24,\n",
       " 'raised': 113,\n",
       " 'in': 62,\n",
       " 'vadnagar': 141,\n",
       " 'northeastern': 94,\n",
       " 'where': 147,\n",
       " 'completed': 22,\n",
       " 'his': 60,\n",
       " 'secondary': 122,\n",
       " 'education': 36,\n",
       " 'introduced': 68,\n",
       " 'at': 13,\n",
       " 'age': 6,\n",
       " 'eight': 37,\n",
       " 'married': 81,\n",
       " 'jashodaben': 73,\n",
       " 'whom': 149,\n",
       " 'abandoned': 0,\n",
       " 'soon': 129,\n",
       " 'after': 4,\n",
       " 'only': 97,\n",
       " 'publicly': 111,\n",
       " 'acknowledging': 2,\n",
       " 'her': 56,\n",
       " 'four': 46,\n",
       " 'decades': 33,\n",
       " 'later': 75,\n",
       " 'when': 146,\n",
       " 'legally': 76,\n",
       " 'required': 116,\n",
       " 'do': 34,\n",
       " 'so': 128,\n",
       " 'became': 14,\n",
       " 'full': 48,\n",
       " 'time': 139,\n",
       " 'worker': 151,\n",
       " 'assigned': 12,\n",
       " 'him': 58,\n",
       " 'rose': 119,\n",
       " 'through': 138,\n",
       " 'hierarchy': 57,\n",
       " 'becoming': 15,\n",
       " 'general': 49,\n",
       " 'secretary': 123,\n",
       " 'appointed': 9,\n",
       " 'elected': 38,\n",
       " 'legislative': 77,\n",
       " 'assembly': 11,\n",
       " 'administration': 3,\n",
       " 'considered': 25,\n",
       " 'complicit': 23,\n",
       " 'riots': 118,\n",
       " 'has': 53,\n",
       " 'been': 16,\n",
       " 'criticised': 29,\n",
       " 'its': 71,\n",
       " 'management': 80,\n",
       " 'crisis': 28,\n",
       " 'according': 1,\n",
       " 'official': 96,\n",
       " 'records': 115,\n",
       " 'little': 78,\n",
       " 'over': 100,\n",
       " 'people': 104,\n",
       " 'were': 145,\n",
       " 'killed': 74,\n",
       " 'three': 137,\n",
       " 'quarters': 112,\n",
       " 'muslim': 89,\n",
       " 'independent': 63,\n",
       " 'sources': 130,\n",
       " 'estimated': 41,\n",
       " 'deaths': 32,\n",
       " 'mostly': 87,\n",
       " 'special': 131,\n",
       " 'investigation': 69,\n",
       " 'team': 135,\n",
       " 'by': 20,\n",
       " 'supreme': 133,\n",
       " 'court': 26,\n",
       " 'found': 45,\n",
       " 'no': 93,\n",
       " 'evidence': 42,\n",
       " 'initiate': 67,\n",
       " 'prosecution': 110,\n",
       " 'proceedings': 109,\n",
       " 'against': 5,\n",
       " 'while': 148,\n",
       " 'policies': 105,\n",
       " 'credited': 27,\n",
       " 'encouraging': 39,\n",
       " 'economic': 35,\n",
       " 'growth': 50,\n",
       " 'failing': 43,\n",
       " 'significantly': 126,\n",
       " 'improve': 61,\n",
       " 'health': 55,\n",
       " 'poverty': 107,\n",
       " 'indices': 66,\n",
       " 'state': 132}"
      ]
     },
     "execution_count": 72,
     "metadata": {},
     "output_type": "execute_result"
    }
   ],
   "source": [
    "cv.vocabulary_"
   ]
  },
  {
   "cell_type": "code",
   "execution_count": 73,
   "id": "60ac044d-4b1b-44e7-bfbd-5086405413c1",
   "metadata": {},
   "outputs": [
    {
     "data": {
      "text/plain": [
       "' narendra damodardas modi  gujarati    n  end   d mod   d s  modi      born    september       is an indian politician serving as the current prime minister of india since    may      '"
      ]
     },
     "execution_count": 73,
     "metadata": {},
     "output_type": "execute_result"
    }
   ],
   "source": [
    "corpus[0]"
   ]
  },
  {
   "cell_type": "code",
   "execution_count": 74,
   "id": "9fe62795-83f4-4a4b-8370-ba0c45b83166",
   "metadata": {},
   "outputs": [
    {
     "data": {
      "text/plain": [
       "array([[0, 0, 0, 0, 0, 0, 0, 1, 0, 0, 1, 0, 0, 0, 0, 0, 0, 0, 0, 1, 0, 0,\n",
       "        0, 0, 0, 0, 0, 0, 0, 0, 1, 1, 0, 0, 0, 0, 0, 0, 0, 0, 1, 0, 0, 0,\n",
       "        0, 0, 0, 0, 0, 0, 0, 0, 1, 0, 0, 0, 0, 0, 0, 0, 0, 0, 0, 0, 1, 1,\n",
       "        0, 0, 0, 0, 1, 0, 0, 0, 0, 0, 0, 0, 0, 0, 0, 0, 1, 0, 1, 1, 1, 0,\n",
       "        0, 0, 1, 0, 0, 0, 0, 1, 0, 0, 0, 0, 0, 0, 0, 0, 0, 0, 1, 0, 1, 0,\n",
       "        0, 0, 0, 0, 0, 0, 0, 0, 0, 0, 0, 0, 0, 0, 1, 1, 0, 1, 0, 0, 0, 0,\n",
       "        0, 0, 0, 0, 1, 0, 0, 0, 0, 0, 0, 0, 0, 0, 0, 0, 0, 0, 0, 0]],\n",
       "      dtype=int64)"
      ]
     },
     "execution_count": 74,
     "metadata": {},
     "output_type": "execute_result"
    }
   ],
   "source": [
    "X[0].toarray()"
   ]
  },
  {
   "cell_type": "markdown",
   "id": "b4c2e2ed-31c9-4824-83aa-3f0a92cd63c8",
   "metadata": {},
   "source": [
    "# Day 2"
   ]
  },
  {
   "cell_type": "code",
   "execution_count": 21,
   "id": "1bd22981-654c-4a8a-8655-f86cffd579ac",
   "metadata": {},
   "outputs": [],
   "source": [
    "# Apply Stopwords and Lemmatize\n",
    "import re\n",
    "corpus=[]\n",
    "for i in range(len(sentences)):\n",
    "    review=re.sub('[^a-zA-Z]',' ',sentences[i])\n",
    "    review=review.lower()\n",
    "    review=review.split()\n",
    "    review=[lemmatizer.lemmatize(word) for word in review if not word in set(sentences)]\n",
    "    review=' '.join(review)\n",
    "    corpus.append(review)\n"
   ]
  },
  {
   "cell_type": "code",
   "execution_count": 22,
   "id": "6b4dbe31-3565-4b07-b969-94d71b8006e7",
   "metadata": {},
   "outputs": [
    {
     "data": {
      "text/plain": [
       "['narendra damodardas modi gujarati n end d mod d s modi born september is an indian politician serving a the current prime minister of india since may',\n",
       " 'modi wa the chief minister of gujarat from to and is the member of parliament mp for varanasi',\n",
       " 'he is a member of the bharatiya janata party bjp and of the rashtriya swayamsevak sangh r a right wing hindu nationalist paramilitary volunteer organisation',\n",
       " 'he is the longest serving prime minister outside the indian national congress',\n",
       " 'modi wa born and raised in vadnagar in northeastern gujarat where he completed his secondary education',\n",
       " 'he wa introduced to the r at the age of eight',\n",
       " 'at the age of he wa married to jashodaben modi whom he abandoned soon after only publicly acknowledging her four decade later when legally required to do so',\n",
       " 'modi became a full time worker for the r in gujarat in',\n",
       " 'the r assigned him to the bjp in and he rose through the party hierarchy becoming general secretary in',\n",
       " 'b in modi wa appointed chief minister of gujarat and elected to the legislative assembly soon after',\n",
       " 'his administration is considered complicit in the gujarat riot and ha been criticised for it management of the crisis',\n",
       " 'according to official record a little over people were killed three quarter of whom were muslim independent source estimated death mostly muslim',\n",
       " 'a special investigation team appointed by the supreme court of india in found no evidence to initiate prosecution proceeding against him',\n",
       " 'd while his policy a chief minister were credited for encouraging economic growth his administration wa criticised for failing to significantly improve health poverty and education index in the state']"
      ]
     },
     "execution_count": 22,
     "metadata": {},
     "output_type": "execute_result"
    }
   ],
   "source": [
    "corpus"
   ]
  },
  {
   "cell_type": "code",
   "execution_count": 28,
   "id": "63ca13b3-5105-4651-93c3-a45c365b4a83",
   "metadata": {},
   "outputs": [],
   "source": [
    "#Trigrams try and then bigram\n",
    "from sklearn.feature_extraction.text import CountVectorizer\n",
    "\n",
    "cv = CountVectorizer(binary=True, ngram_range=(2, 2))"
   ]
  },
  {
   "cell_type": "code",
   "execution_count": 29,
   "id": "f5c0a6cc-e348-4dbc-b20f-27a25b648e12",
   "metadata": {},
   "outputs": [],
   "source": [
    "X = cv.fit_transform(corpus)"
   ]
  },
  {
   "cell_type": "code",
   "execution_count": 30,
   "id": "dadd6e6b-b951-4a2e-83c4-b51686c117b1",
   "metadata": {},
   "outputs": [
    {
     "data": {
      "text/plain": [
       "{'narendra damodardas': 126,\n",
       " 'damodardas modi': 38,\n",
       " 'modi gujarati': 120,\n",
       " 'gujarati end': 66,\n",
       " 'end mod': 46,\n",
       " 'mod modi': 117,\n",
       " 'modi born': 119,\n",
       " 'born september': 28,\n",
       " 'september is': 165,\n",
       " 'is an': 98,\n",
       " 'an indian': 8,\n",
       " 'indian politician': 94,\n",
       " 'politician serving': 148,\n",
       " 'serving the': 167,\n",
       " 'the current': 183,\n",
       " 'current prime': 37,\n",
       " 'prime minister': 150,\n",
       " 'minister of': 114,\n",
       " 'of india': 134,\n",
       " 'india since': 92,\n",
       " 'since may': 169,\n",
       " 'modi wa': 121,\n",
       " 'wa the': 211,\n",
       " 'the chief': 181,\n",
       " 'chief minister': 30,\n",
       " 'of gujarat': 132,\n",
       " 'gujarat from': 62,\n",
       " 'from to': 57,\n",
       " 'to and': 197,\n",
       " 'and is': 13,\n",
       " 'is the': 101,\n",
       " 'the member': 189,\n",
       " 'member of': 113,\n",
       " 'of parliament': 135,\n",
       " 'parliament mp': 143,\n",
       " 'mp for': 124,\n",
       " 'for varanasi': 54,\n",
       " 'he is': 70,\n",
       " 'is member': 100,\n",
       " 'of the': 136,\n",
       " 'the bharatiya': 179,\n",
       " 'bharatiya janata': 24,\n",
       " 'janata party': 103,\n",
       " 'party bjp': 144,\n",
       " 'bjp and': 25,\n",
       " 'and of': 14,\n",
       " 'the rashtriya': 191,\n",
       " 'rashtriya swayamsevak': 156,\n",
       " 'swayamsevak sangh': 174,\n",
       " 'sangh right': 162,\n",
       " 'right wing': 159,\n",
       " 'wing hindu': 220,\n",
       " 'hindu nationalist': 77,\n",
       " 'nationalist paramilitary': 128,\n",
       " 'paramilitary volunteer': 142,\n",
       " 'volunteer organisation': 205,\n",
       " 'the longest': 188,\n",
       " 'longest serving': 110,\n",
       " 'serving prime': 166,\n",
       " 'minister outside': 115,\n",
       " 'outside the': 140,\n",
       " 'the indian': 186,\n",
       " 'indian national': 93,\n",
       " 'national congress': 127,\n",
       " 'wa born': 207,\n",
       " 'born and': 27,\n",
       " 'and raised': 15,\n",
       " 'raised in': 155,\n",
       " 'in vadnagar': 88,\n",
       " 'vadnagar in': 204,\n",
       " 'in northeastern': 86,\n",
       " 'northeastern gujarat': 130,\n",
       " 'gujarat where': 65,\n",
       " 'where he': 216,\n",
       " 'he completed': 69,\n",
       " 'completed his': 31,\n",
       " 'his secondary': 80,\n",
       " 'secondary education': 163,\n",
       " 'he wa': 72,\n",
       " 'wa introduced': 209,\n",
       " 'introduced to': 96,\n",
       " 'to the': 203,\n",
       " 'the at': 178,\n",
       " 'at the': 20,\n",
       " 'the age': 176,\n",
       " 'age of': 7,\n",
       " 'of eight': 131,\n",
       " 'of he': 133,\n",
       " 'wa married': 210,\n",
       " 'married to': 112,\n",
       " 'to jashodaben': 200,\n",
       " 'jashodaben modi': 104,\n",
       " 'modi whom': 122,\n",
       " 'whom he': 218,\n",
       " 'he abandoned': 68,\n",
       " 'abandoned soon': 0,\n",
       " 'soon after': 170,\n",
       " 'after only': 5,\n",
       " 'only publicly': 139,\n",
       " 'publicly acknowledging': 153,\n",
       " 'acknowledging her': 2,\n",
       " 'her four': 74,\n",
       " 'four decade': 56,\n",
       " 'decade later': 40,\n",
       " 'later when': 106,\n",
       " 'when legally': 215,\n",
       " 'legally required': 107,\n",
       " 'required to': 158,\n",
       " 'to do': 198,\n",
       " 'do so': 41,\n",
       " 'modi became': 118,\n",
       " 'became full': 21,\n",
       " 'full time': 58,\n",
       " 'time worker': 196,\n",
       " 'worker for': 221,\n",
       " 'for the': 53,\n",
       " 'the in': 185,\n",
       " 'in gujarat': 84,\n",
       " 'gujarat in': 63,\n",
       " 'the assigned': 177,\n",
       " 'assigned him': 19,\n",
       " 'him to': 76,\n",
       " 'the bjp': 180,\n",
       " 'bjp in': 26,\n",
       " 'in and': 82,\n",
       " 'and he': 12,\n",
       " 'he rose': 71,\n",
       " 'rose through': 161,\n",
       " 'through the': 195,\n",
       " 'the party': 190,\n",
       " 'party hierarchy': 145,\n",
       " 'hierarchy becoming': 75,\n",
       " 'becoming general': 22,\n",
       " 'general secretary': 59,\n",
       " 'secretary in': 164,\n",
       " 'in modi': 85,\n",
       " 'wa appointed': 206,\n",
       " 'appointed chief': 17,\n",
       " 'gujarat and': 61,\n",
       " 'and elected': 10,\n",
       " 'elected to': 44,\n",
       " 'the legislative': 187,\n",
       " 'legislative assembly': 108,\n",
       " 'assembly soon': 18,\n",
       " 'his administration': 78,\n",
       " 'administration is': 3,\n",
       " 'is considered': 99,\n",
       " 'considered complicit': 33,\n",
       " 'complicit in': 32,\n",
       " 'in the': 87,\n",
       " 'the gujarat': 184,\n",
       " 'gujarat riot': 64,\n",
       " 'riot and': 160,\n",
       " 'and ha': 11,\n",
       " 'ha been': 67,\n",
       " 'been criticised': 23,\n",
       " 'criticised for': 36,\n",
       " 'for it': 52,\n",
       " 'it management': 102,\n",
       " 'management of': 111,\n",
       " 'the crisis': 182,\n",
       " 'according to': 1,\n",
       " 'to official': 201,\n",
       " 'official record': 138,\n",
       " 'record little': 157,\n",
       " 'little over': 109,\n",
       " 'over people': 141,\n",
       " 'people were': 146,\n",
       " 'were killed': 213,\n",
       " 'killed three': 105,\n",
       " 'three quarter': 194,\n",
       " 'quarter of': 154,\n",
       " 'of whom': 137,\n",
       " 'whom were': 219,\n",
       " 'were muslim': 214,\n",
       " 'muslim independent': 125,\n",
       " 'independent source': 89,\n",
       " 'source estimated': 171,\n",
       " 'estimated death': 47,\n",
       " 'death mostly': 39,\n",
       " 'mostly muslim': 123,\n",
       " 'special investigation': 172,\n",
       " 'investigation team': 97,\n",
       " 'team appointed': 175,\n",
       " 'appointed by': 16,\n",
       " 'by the': 29,\n",
       " 'the supreme': 193,\n",
       " 'supreme court': 173,\n",
       " 'court of': 34,\n",
       " 'india in': 91,\n",
       " 'in found': 83,\n",
       " 'found no': 55,\n",
       " 'no evidence': 129,\n",
       " 'evidence to': 48,\n",
       " 'to initiate': 199,\n",
       " 'initiate prosecution': 95,\n",
       " 'prosecution proceeding': 152,\n",
       " 'proceeding against': 151,\n",
       " 'against him': 6,\n",
       " 'while his': 217,\n",
       " 'his policy': 79,\n",
       " 'policy chief': 147,\n",
       " 'minister were': 116,\n",
       " 'were credited': 212,\n",
       " 'credited for': 35,\n",
       " 'for encouraging': 50,\n",
       " 'encouraging economic': 45,\n",
       " 'economic growth': 42,\n",
       " 'growth his': 60,\n",
       " 'administration wa': 4,\n",
       " 'wa criticised': 208,\n",
       " 'for failing': 51,\n",
       " 'failing to': 49,\n",
       " 'to significantly': 202,\n",
       " 'significantly improve': 168,\n",
       " 'improve health': 81,\n",
       " 'health poverty': 73,\n",
       " 'poverty and': 149,\n",
       " 'and education': 9,\n",
       " 'education index': 43,\n",
       " 'index in': 90,\n",
       " 'the state': 192}"
      ]
     },
     "execution_count": 30,
     "metadata": {},
     "output_type": "execute_result"
    }
   ],
   "source": [
    "cv.vocabulary_"
   ]
  },
  {
   "cell_type": "code",
   "execution_count": 43,
   "id": "a98f6e08-337b-40e5-9ab3-a56576323324",
   "metadata": {},
   "outputs": [],
   "source": [
    "# TFIDF\n",
    "\n",
    "from sklearn.feature_extraction.text import TfidfVectorizer\n",
    "\n",
    "cv = TfidfVectorizer(ngram_range=(1,1))\n",
    "X = cv.fit_transform(corpus)"
   ]
  },
  {
   "cell_type": "code",
   "execution_count": 44,
   "id": "f514ac14-771d-4d78-b95a-17ea6b97be12",
   "metadata": {},
   "outputs": [
    {
     "data": {
      "text/plain": [
       "'narendra damodardas modi gujarati n end d mod d s modi born september is an indian politician serving a the current prime minister of india since may'"
      ]
     },
     "execution_count": 44,
     "metadata": {},
     "output_type": "execute_result"
    }
   ],
   "source": [
    "corpus[0]"
   ]
  },
  {
   "cell_type": "code",
   "execution_count": 45,
   "id": "c2e2ed94-758d-42ad-8248-7af91ce0a802",
   "metadata": {},
   "outputs": [
    {
     "data": {
      "text/plain": [
       "array([[0.        , 0.        , 0.        , 0.        , 0.        ,\n",
       "        0.        , 0.        , 0.24055511, 0.        , 0.        ,\n",
       "        0.        , 0.        , 0.        , 0.        , 0.        ,\n",
       "        0.        , 0.        , 0.        , 0.20820359, 0.        ,\n",
       "        0.        , 0.        , 0.        , 0.        , 0.        ,\n",
       "        0.        , 0.        , 0.        , 0.        , 0.24055511,\n",
       "        0.24055511, 0.        , 0.        , 0.        , 0.        ,\n",
       "        0.        , 0.        , 0.        , 0.        , 0.24055511,\n",
       "        0.        , 0.        , 0.        , 0.        , 0.        ,\n",
       "        0.        , 0.        , 0.        , 0.        , 0.        ,\n",
       "        0.        , 0.24055511, 0.        , 0.        , 0.        ,\n",
       "        0.        , 0.        , 0.        , 0.        , 0.        ,\n",
       "        0.        , 0.        , 0.        , 0.        , 0.20820359,\n",
       "        0.20820359, 0.        , 0.        , 0.        , 0.1528983 ,\n",
       "        0.        , 0.        , 0.        , 0.        , 0.        ,\n",
       "        0.        , 0.        , 0.        , 0.        , 0.        ,\n",
       "        0.        , 0.24055511, 0.        , 0.1528983 , 0.24055511,\n",
       "        0.28119764, 0.        , 0.        , 0.        , 0.24055511,\n",
       "        0.        , 0.        , 0.        , 0.        , 0.1121402 ,\n",
       "        0.        , 0.        , 0.        , 0.        , 0.        ,\n",
       "        0.        , 0.        , 0.        , 0.        , 0.        ,\n",
       "        0.24055511, 0.        , 0.20820359, 0.        , 0.        ,\n",
       "        0.        , 0.        , 0.        , 0.        , 0.        ,\n",
       "        0.        , 0.        , 0.        , 0.        , 0.        ,\n",
       "        0.        , 0.        , 0.24055511, 0.20820359, 0.        ,\n",
       "        0.24055511, 0.        , 0.        , 0.        , 0.        ,\n",
       "        0.        , 0.        , 0.        , 0.        , 0.0912065 ,\n",
       "        0.        , 0.        , 0.        , 0.        , 0.        ,\n",
       "        0.        , 0.        , 0.        , 0.        , 0.        ,\n",
       "        0.        , 0.        , 0.        , 0.        , 0.        ]])"
      ]
     },
     "execution_count": 45,
     "metadata": {},
     "output_type": "execute_result"
    }
   ],
   "source": [
    "X[0].toarray()"
   ]
  },
  {
   "cell_type": "code",
   "execution_count": null,
   "id": "ea63e4ac-0380-44d8-88fa-38c91724d44c",
   "metadata": {},
   "outputs": [],
   "source": [
    " "
   ]
  }
 ],
 "metadata": {
  "kernelspec": {
   "display_name": "Python 3 (ipykernel)",
   "language": "python",
   "name": "python3"
  },
  "language_info": {
   "codemirror_mode": {
    "name": "ipython",
    "version": 3
   },
   "file_extension": ".py",
   "mimetype": "text/x-python",
   "name": "python",
   "nbconvert_exporter": "python",
   "pygments_lexer": "ipython3",
   "version": "3.9.19"
  }
 },
 "nbformat": 4,
 "nbformat_minor": 5
}
